{
 "cells": [
  {
   "cell_type": "code",
   "execution_count": 165,
   "metadata": {},
   "outputs": [],
   "source": [
    "from twelvedata import TDClient\n",
    "import os\n",
    "import pandas as pd"
   ]
  },
  {
   "cell_type": "code",
   "execution_count": 166,
   "metadata": {},
   "outputs": [],
   "source": [
    "td = TDClient(os.getenv('TD_API'))"
   ]
  },
  {
   "cell_type": "code",
   "execution_count": 167,
   "metadata": {},
   "outputs": [],
   "source": [
    "all_symbols = (\"AUD/CAD\",\"AUD/CHF\",\"AUD/JPY\",\"AUD/NZD\",\"AUD/USD\",\n",
    "               \"CAD/CHF\", \"CAD/JPY\", \"CHF/JPY\", \n",
    "               \"EUR/AUD\", \"EUR/CAD\", \"EUR/CHF\", \"EUR/GBP\", \"EUR/JPY\", \"EUR/NZD\", \"EUR/USD\",\n",
    "               \"GBP/AUD\", \"GBP/CAD\", \"GBP/CHF\", \"GBP/JPY\", \"GBP/NZD\", \"GBP/USD\",\n",
    "               \"NZD/CAD\", \"NZD/CHF\", \"NZD/JPY\", \"NZD/USD\", \n",
    "               \"USD/CAD\", \"USD/CHF\", \"USD/JPY\")"
   ]
  },
  {
   "cell_type": "code",
   "execution_count": 168,
   "metadata": {},
   "outputs": [],
   "source": [
    "portfolio_sheet = pd.read_csv('portfolio_example.csv')"
   ]
  },
  {
   "cell_type": "code",
   "execution_count": 169,
   "metadata": {},
   "outputs": [],
   "source": [
    "for pair in portfolio_sheet['pair']:\n",
    "    if pair in all_symbols:\n",
    "      continue\n",
    "    else:\n",
    "      print(\"Symbol is not allowed or mispelled.  Please check the 'all_symbols' variable.\")\n",
    "      exit()"
   ]
  },
  {
   "cell_type": "code",
   "execution_count": 174,
   "metadata": {},
   "outputs": [
    {
     "name": "stdout",
     "output_type": "stream",
     "text": [
      "             GBP/USD   EUR/USD   USD/JPY   AUD/CHF   AUD/NZD\n",
      "datetime                                                    \n",
      "2023-08-29       NaN       NaN       NaN       NaN       NaN\n",
      "2023-08-28 -0.001545 -0.003225  0.003802  0.000176  0.001565\n",
      "2023-08-25 -0.001786 -0.002218 -0.000580 -0.003168 -0.002970\n",
      "2023-08-24  0.001828  0.001390 -0.004233  0.001942 -0.001079\n",
      "2023-08-23  0.009800  0.004903 -0.006789  0.002819  0.000554\n",
      "2023-08-22  0.000550 -0.001657  0.007215 -0.006308 -0.003607\n",
      "2023-08-21  0.001846  0.004703  0.002228 -0.003625  0.001907\n",
      "2023-08-18 -0.001489 -0.002203 -0.005608  0.002999 -0.000508\n",
      "2023-08-17  0.000746  0.000000  0.003026 -0.004583 -0.000832\n",
      "2023-08-16 -0.001216  0.000690  0.003497  0.004871  0.001388\n",
      "2023-08-15 -0.002121  0.002252 -0.005227  0.003007  0.002310\n",
      "2023-08-14 -0.001574  0.000183 -0.000172  0.004938  0.001106\n",
      "2023-08-11  0.000946  0.003668 -0.004088 -0.000983 -0.000470\n",
      "2023-08-10 -0.001654  0.003289 -0.001414  0.003531 -0.003031\n",
      "          GBP/USD   EUR/USD   USD/JPY   AUD/CHF   AUD/NZD\n",
      "GBP/USD  1.000000  0.560224 -0.311111 -0.070192  0.072092\n",
      "EUR/USD  0.560224  1.000000 -0.422339  0.190120  0.257687\n",
      "USD/JPY -0.311111 -0.422339  1.000000 -0.532518 -0.158783\n",
      "AUD/CHF -0.070192  0.190120 -0.532518  1.000000  0.418354\n",
      "AUD/NZD  0.072092  0.257687 -0.158783  0.418354  1.000000\n"
     ]
    }
   ],
   "source": [
    "table = pd.DataFrame()\n",
    "\n",
    "for _symbol in portfolio_sheet['pair']:\n",
    "  ts = td.time_series(\n",
    "    symbol = _symbol,\n",
    "    interval=\"1day\",\n",
    "    outputsize=\"14\"\n",
    "  ).as_pandas()\n",
    "\n",
    "  ts.drop(['open', 'high', 'low'], axis=1, inplace=True)\n",
    "  ts.rename(columns={'close': str(_symbol)}, inplace=True)\n",
    "  table = pd.concat([table, ts], axis=1)\n",
    "\n",
    "\n",
    "table = table.pct_change()\n",
    "print(table)\n",
    "print(table.corr())"
   ]
  },
  {
   "cell_type": "code",
   "execution_count": 171,
   "metadata": {},
   "outputs": [],
   "source": [
    "pivot_risk = portfolio_sheet.iloc[0,1]\n",
    "drawdown = pivot_risk"
   ]
  },
  {
   "cell_type": "code",
   "execution_count": 172,
   "metadata": {},
   "outputs": [
    {
     "name": "stdout",
     "output_type": "stream",
     "text": [
      "Expected drawdown is: % -1.07\n"
     ]
    }
   ],
   "source": [
    "pair_counter = 1\n",
    "for i in range(((len(portfolio_sheet) -1))):\n",
    "  corr = table.iloc[:,0].corr(table.iloc[:,pair_counter])\n",
    "  pair_risk = portfolio_sheet.iloc[pair_counter, 1]\n",
    "  add_drawdown = corr * pair_risk\n",
    "  drawdown += add_drawdown\n",
    "  if pair_counter < len(portfolio_sheet) -1:\n",
    "    pair_counter += 1\n",
    "\n",
    "print(\"Expected drawdown is: %\", -1 * round(drawdown, 2))"
   ]
  }
 ],
 "metadata": {
  "kernelspec": {
   "display_name": "Python 3",
   "language": "python",
   "name": "python3"
  },
  "language_info": {
   "codemirror_mode": {
    "name": "ipython",
    "version": 3
   },
   "file_extension": ".py",
   "mimetype": "text/x-python",
   "name": "python",
   "nbconvert_exporter": "python",
   "pygments_lexer": "ipython3",
   "version": "3.10.8"
  },
  "orig_nbformat": 4
 },
 "nbformat": 4,
 "nbformat_minor": 2
}

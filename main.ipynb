{
 "cells": [
  {
   "cell_type": "code",
   "execution_count": 80,
   "metadata": {},
   "outputs": [],
   "source": [
    "from twelvedata import TDClient\n",
    "import os\n",
    "import pandas as pd"
   ]
  },
  {
   "cell_type": "code",
   "execution_count": 81,
   "metadata": {},
   "outputs": [],
   "source": [
    "td = TDClient(os.getenv('TD_API'))"
   ]
  },
  {
   "cell_type": "code",
   "execution_count": 82,
   "metadata": {},
   "outputs": [],
   "source": [
    "all_symbols = (\"AUD/CAD\",\"AUD/CHF\",\"AUD/JPY\",\"AUD/NZD\",\"AUD/USD\",\n",
    "               \"CAD/CHF\", \"CAD/JPY\", \"CHF/JPY\", \n",
    "               \"EUR/AUD\", \"EUR/CAD\", \"EUR/CHF\", \"EUR/GBP\", \"EUR/JPY\", \"EUR/NZD\", \"EUR/USD\",\n",
    "               \"GBP/AUD\", \"GBP/CAD\", \"GBP/CHF\", \"GBP/JPY\", \"GBP/NZD\", \"GBP/USD\",\n",
    "               \"NZD/CAD\", \"NZD/CHF\", \"NZD/JPY\", \"NZD/USD\", \n",
    "               \"USD/CAD\", \"USD/CHF\", \"USD/JPY\")"
   ]
  },
  {
   "cell_type": "code",
   "execution_count": 83,
   "metadata": {},
   "outputs": [],
   "source": [
    "portfolio_sheet = pd.read_csv('portfolio_example.csv')"
   ]
  },
  {
   "cell_type": "code",
   "execution_count": 84,
   "metadata": {},
   "outputs": [],
   "source": [
    "for pair in portfolio_sheet['pair']:\n",
    "    if pair in all_symbols:\n",
    "      continue\n",
    "    else:\n",
    "      print(\"Symbol is not allowed or mispelled.  Please check the 'all_symbols' variable.\")\n",
    "      exit()"
   ]
  },
  {
   "cell_type": "code",
   "execution_count": 85,
   "metadata": {},
   "outputs": [
    {
     "name": "stdout",
     "output_type": "stream",
     "text": [
      "          GBP/USD   EUR/USD\n",
      "GBP/USD  1.000000  0.545498\n",
      "EUR/USD  0.545498  1.000000\n"
     ]
    }
   ],
   "source": [
    "table = pd.DataFrame()\n",
    "\n",
    "for _symbol in portfolio_sheet['pair']:\n",
    "  ts = td.time_series(\n",
    "    symbol = _symbol,\n",
    "    interval=\"1day\",\n",
    "    outputsize=\"14\"\n",
    "  ).as_pandas()\n",
    "\n",
    "  ts.drop(['open', 'high', 'low'], axis=1, inplace=True)\n",
    "  ts.rename(columns={'close': str(_symbol)}, inplace=True)\n",
    "  table = pd.concat([table, ts], axis=1)\n",
    "\n",
    "print(table.corr())\n"
   ]
  },
  {
   "cell_type": "code",
   "execution_count": 86,
   "metadata": {},
   "outputs": [],
   "source": [
    "pivot_risk = portfolio_sheet.iloc[0,1]\n",
    "drawdown = pivot_risk"
   ]
  },
  {
   "cell_type": "code",
   "execution_count": 87,
   "metadata": {},
   "outputs": [
    {
     "name": "stdout",
     "output_type": "stream",
     "text": [
      "Expected drawdown is:  3.0909966476216533\n"
     ]
    }
   ],
   "source": [
    "pair_counter = 1\n",
    "for i in range(((len(portfolio_sheet) -1))):\n",
    "  corr = table.iloc[:,0].corr(table.iloc[:,pair_counter])\n",
    "  pair_risk = portfolio_sheet.iloc[pair_counter, 1]\n",
    "  add_drawdown = corr * pair_risk\n",
    "  drawdown += add_drawdown\n",
    "  if pair_counter < len(portfolio_sheet) -1:\n",
    "    pair_counter += 1\n",
    "\n",
    "print(\"Expected drawdown is: \", drawdown)"
   ]
  }
 ],
 "metadata": {
  "kernelspec": {
   "display_name": "Python 3",
   "language": "python",
   "name": "python3"
  },
  "language_info": {
   "codemirror_mode": {
    "name": "ipython",
    "version": 3
   },
   "file_extension": ".py",
   "mimetype": "text/x-python",
   "name": "python",
   "nbconvert_exporter": "python",
   "pygments_lexer": "ipython3",
   "version": "3.10.8"
  },
  "orig_nbformat": 4
 },
 "nbformat": 4,
 "nbformat_minor": 2
}
